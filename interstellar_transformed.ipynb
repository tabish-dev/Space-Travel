{
 "cells": [
  {
   "cell_type": "code",
   "execution_count": 62,
   "id": "81949851-e5ff-4ec2-98ba-3e5d9a66c4e9",
   "metadata": {},
   "outputs": [],
   "source": [
    "import findspark\n",
    "findspark.init()\n",
    "from pyspark.sql import SparkSession\n",
    "from pyspark.sql import DataFrame\n",
    "from pyspark.sql.functions import sum\n",
    "from pyspark.sql.functions import lit\n",
    "from pyspark.sql.functions import concat_ws\n",
    "from pyspark.sql.functions import concat"
   ]
  },
  {
   "cell_type": "code",
   "execution_count": 3,
   "id": "9a8bb8b1-5d99-47a7-86d0-6e035c065c4a",
   "metadata": {},
   "outputs": [],
   "source": [
    "spark = SparkSession.builder.appName('my_app').getOrCreate()"
   ]
  },
  {
   "cell_type": "code",
   "execution_count": 5,
   "id": "fc6dce7c-067c-4598-be91-a5aedb3c5639",
   "metadata": {},
   "outputs": [],
   "source": [
    "interstellar_df = spark.read.csv('interstellar_travel.csv', header=True, inferSchema=True)"
   ]
  },
  {
   "cell_type": "code",
   "execution_count": 6,
   "id": "699bcb86-b7ad-496e-a708-21068bf1328e",
   "metadata": {},
   "outputs": [
    {
     "name": "stdout",
     "output_type": "stream",
     "text": [
      "root\n",
      " |-- Age: integer (nullable = true)\n",
      " |-- Gender: string (nullable = true)\n",
      " |-- Occupation: string (nullable = true)\n",
      " |-- Travel Class: string (nullable = true)\n",
      " |-- Destination: string (nullable = true)\n",
      " |-- Star System: string (nullable = true)\n",
      " |-- Distance to Destination (Light-Years): double (nullable = true)\n",
      " |-- Duration of Stay (Earth Days): double (nullable = true)\n",
      " |-- Number of Companions: integer (nullable = true)\n",
      " |-- Purpose of Travel: string (nullable = true)\n",
      " |-- Transportation Type: string (nullable = true)\n",
      " |-- Price (Galactic Credits): double (nullable = true)\n",
      " |-- Booking Date: string (nullable = true)\n",
      " |-- Departure Date: string (nullable = true)\n",
      " |-- Special Requests: string (nullable = true)\n",
      " |-- Loyalty Program Member: string (nullable = true)\n",
      " |-- Month: integer (nullable = true)\n",
      " |-- Customer Satisfaction Score: double (nullable = true)\n",
      "\n"
     ]
    }
   ],
   "source": [
    "interstellar_df.printSchema()"
   ]
  },
  {
   "cell_type": "code",
   "execution_count": 7,
   "id": "34441747-a4e1-4989-a8d7-d6b902566541",
   "metadata": {},
   "outputs": [
    {
     "data": {
      "text/plain": [
       "DataFrame[summary: string, Age: string, Gender: string, Occupation: string, Travel Class: string, Destination: string, Star System: string, Distance to Destination (Light-Years): string, Duration of Stay (Earth Days): string, Number of Companions: string, Purpose of Travel: string, Transportation Type: string, Price (Galactic Credits): string, Booking Date: string, Departure Date: string, Special Requests: string, Loyalty Program Member: string, Month: string, Customer Satisfaction Score: string]"
      ]
     },
     "execution_count": 7,
     "metadata": {},
     "output_type": "execute_result"
    }
   ],
   "source": [
    "interstellar_df.describe()"
   ]
  },
  {
   "cell_type": "code",
   "execution_count": 21,
   "id": "e9dedfd5-8b24-478e-8dd5-169804c656b8",
   "metadata": {},
   "outputs": [
    {
     "name": "stdout",
     "output_type": "stream",
     "text": [
      "+---+------+--------------+------------+--------------------+--------------------+-------------------------------------+-----------------------------+--------------------+-----------------+-------------------+------------------------+------------+--------------+----------------+----------------------+-----+---------------------------+\n",
      "|Age|Gender|    Occupation|Travel Class|         Destination|         Star System|Distance to Destination (Light-Years)|Duration of Stay (Earth Days)|Number of Companions|Purpose of Travel|Transportation Type|Price (Galactic Credits)|Booking Date|Departure Date|Special Requests|Loyalty Program Member|Month|Customer Satisfaction Score|\n",
      "+---+------+--------------+------------+--------------------+--------------------+-------------------------------------+-----------------------------+--------------------+-----------------+-------------------+------------------------+------------+--------------+----------------+----------------------+-----+---------------------------+\n",
      "| 14|Female|      Colonist|    Business|          Gliese 581|Cunningham Mountains|                                 1.09|                         11.0|                   5|          Tourism|         Warp Drive|              828.949275|   9/17/2023|      1/7/2025|           Other|                    No|    9|                      105.0|\n",
      "| 22|  Male|       Tourist|     Economy|      Alpha Centauri|         Hayes Trace|                                  5.7|                         23.0|                   0|         Research|      Solar Sailing|              488.469135|   3/31/2023|    12/26/2025|           Other|                    No|    3|                      102.0|\n",
      "| 62|Female|Businessperson|      Luxury|      Alpha Centauri|           Anna Port|                                 0.37|                          4.0|                   1|          Tourism|       Ion Thruster|              183.745881|   5/19/2022|      1/4/2025|            None|                   Yes|    5|                      100.0|\n",
      "| 21|Female|      Colonist|     Economy|       Lalande 21185|         Henry Ville|                                 0.32|                         23.0|                   1|          Tourism|         Warp Drive|                 358.754|   4/13/2023|      2/9/2024|            None|                    No|    4|                      108.0|\n",
      "| 42|  Male|      Explorer|      Luxury|Exotic Destinatio...|         Graves Mall|                                 6.17|                         42.0|                   1|     Colonization|       Ion Thruster|              3073.75992|   6/12/2023|     3/15/2024|    Special Meal|                    No|    6|                       97.0|\n",
      "| 30|  Male|         Other|     Economy|            Tau Ceti|      Vazquez Tunnel|                                10.51|                         60.0|                   1|     Colonization|         Warp Drive|              1136.16195|   4/13/2023|     2/16/2025|           Other|                    No|    4|                      105.0|\n",
      "| 51|  Male|     Scientist|    Business|       Lalande 21185|       Carlos Island|                                  0.2|                         90.0|                   2|         Research|       Ion Thruster|              321.343754|  11/13/2023|     6/11/2024|     Window Seat|                   Yes|   11|                      107.0|\n",
      "| 19|Female|         Other|      Luxury|          Kepler-22b|         James Pines|                                 6.17|                          6.0|                   7|          Tourism|       Ion Thruster|             1581.888751|   4/22/2022|     7/18/2024|    Special Meal|                   Yes|    4|                      107.0|\n",
      "| 78|Female|Businessperson|     Economy|    Zeta II Reticuli|       Michelle Fork|                                 2.36|                         28.0|                   1|         Business|      Solar Sailing|              166.475925|  10/19/2022|      6/8/2025|Extra Space Suit|                   Yes|   10|                      102.0|\n",
      "| 81|Female|Businessperson|    Business|       Lalande 21185|           Ryan Walk|                                 0.09|                         72.0|                   1|     Colonization|       Ion Thruster|               86.204696|   3/27/2022|     6/13/2024|    Special Meal|                   Yes|    3|                      102.0|\n",
      "| 30|Female|         Other|     Economy|          Trappist-1|         Adam Spring|                                 2.29|                        155.0|                   1|     Colonization|              Other|              820.802714|   4/10/2023|      9/2/2024|    Special Meal|                   Yes|    4|                      102.0|\n",
      "| 12|Female|         Other|     Economy|    Zeta II Reticuli|       Arroyo Forges|                                 0.37|                         22.0|                   1|          Tourism|       Ion Thruster|               70.508557|  12/23/2022|    12/19/2025|           Other|                   Yes|   12|                      112.0|\n",
      "| 33|  Male|      Explorer|     Economy|Exotic Destination 5|        William Club|                                 5.23|                         27.0|                   2|         Research|       Ion Thruster|                338.2533|   3/25/2022|    10/19/2024|            None|                   Yes|    3|                      105.0|\n",
      "| 35|  Male|      Explorer|     Economy|          Kepler-22b|         Smith Inlet|                                 3.46|                         71.0|                   2|     Colonization|         Warp Drive|              1428.30072|   8/12/2023|     7/12/2024|           Other|                    No|    8|                      100.0|\n",
      "|  8|Female|         Other|     Economy|    Zeta II Reticuli|       Robert Unions|                                 11.8|                          8.0|                   0|            Other|         Warp Drive|             1654.276932|   6/28/2023|     8/20/2025|           Other|                   Yes|    6|                      105.0|\n",
      "| 23|Female|      Colonist|      Luxury|Exotic Destination 2|       Herrera Lodge|                                 0.61|                          1.0|                   2|          Tourism|              Other|                842.1966|   7/26/2023|    12/27/2024|           Other|                    No|    7|                      102.0|\n",
      "| 12|Female|      Colonist|    Business|Exotic Destination 9|     Brittany Drives|                                 0.87|                         80.0|                   1|            Other|       Ion Thruster|              1237.42579|   8/19/2023|      9/3/2024|           Other|                   Yes|    8|                      102.0|\n",
      "| 66|  Male|     Scientist|     Economy|          Gliese 581|        Cruz Parkway|                                 0.35|                         18.0|                   0|            Other|      Solar Sailing|                21.39291|   5/17/2022|     6/22/2025|    Special Meal|                   Yes|    5|                      102.0|\n",
      "| 36|  Male|      Explorer|     Economy|      Alpha Centauri|            Sims Run|                                 8.06|                         70.0|                   0|     Colonization|      Solar Sailing|             2750.166862|   12/5/2023|     4/30/2024|     Window Seat|                    No|   12|                       97.0|\n",
      "| 13|Female|      Colonist|     Economy|          Gliese 581|    Charles Motorway|                                 2.35|                         19.0|                   0|         Business|              Other|               710.33545|  12/16/2023|     11/7/2025|            None|                    No|   12|                      105.0|\n",
      "+---+------+--------------+------------+--------------------+--------------------+-------------------------------------+-----------------------------+--------------------+-----------------+-------------------+------------------------+------------+--------------+----------------+----------------------+-----+---------------------------+\n",
      "only showing top 20 rows\n",
      "\n"
     ]
    }
   ],
   "source": [
    "interstellar_df.show()"
   ]
  },
  {
   "cell_type": "code",
   "execution_count": 16,
   "id": "9e818266-7566-4ef9-9f4a-60dd903e7572",
   "metadata": {},
   "outputs": [
    {
     "data": {
      "text/plain": [
       "[Row(Age=14, Gender='Female', Occupation='Colonist', Travel Class='Business', Destination='Gliese 581', Star System='Cunningham Mountains', Distance to Destination (Light-Years)=1.09, Duration of Stay (Earth Days)=11.0, Number of Companions=5, Purpose of Travel='Tourism', Transportation Type='Warp Drive', Price (Galactic Credits)=828.949275, Booking Date='9/17/2023', Departure Date='1/7/2025', Special Requests='Other', Loyalty Program Member='No', Month=9, Customer Satisfaction Score=105.0),\n",
       " Row(Age=22, Gender='Male', Occupation='Tourist', Travel Class='Economy', Destination='Alpha Centauri', Star System='Hayes Trace', Distance to Destination (Light-Years)=5.7, Duration of Stay (Earth Days)=23.0, Number of Companions=0, Purpose of Travel='Research', Transportation Type='Solar Sailing', Price (Galactic Credits)=488.469135, Booking Date='3/31/2023', Departure Date='12/26/2025', Special Requests='Other', Loyalty Program Member='No', Month=3, Customer Satisfaction Score=102.0)]"
      ]
     },
     "execution_count": 16,
     "metadata": {},
     "output_type": "execute_result"
    }
   ],
   "source": [
    "interstellar_df.head(2)"
   ]
  },
  {
   "cell_type": "code",
   "execution_count": 22,
   "id": "de561fbd-e918-4bd0-8b46-e5564dbccc60",
   "metadata": {},
   "outputs": [],
   "source": [
    "interstellar_df = interstellar_df.withColumnRenamed('Age', 'AGE')\\\n",
    "                                 .withColumnRenamed('Female','FEMALE')"
   ]
  },
  {
   "cell_type": "code",
   "execution_count": 30,
   "id": "fb08398f-7e93-4cbb-842f-c4b96406fb7f",
   "metadata": {},
   "outputs": [
    {
     "data": {
      "text/plain": [
       "547568"
      ]
     },
     "execution_count": 30,
     "metadata": {},
     "output_type": "execute_result"
    }
   ],
   "source": [
    "interstellar_df.count()"
   ]
  },
  {
   "cell_type": "code",
   "execution_count": 26,
   "id": "941d88d3-c258-4bbc-9038-ab727011687f",
   "metadata": {},
   "outputs": [],
   "source": [
    "interstellar_df = interstellar_df.withColumn('AGE',interstellar_df['AGE'].cast('int'))"
   ]
  },
  {
   "cell_type": "code",
   "execution_count": 32,
   "id": "4176d803-6df7-4133-ad4e-0366701a0e38",
   "metadata": {},
   "outputs": [],
   "source": [
    "interstellar_df = interstellar_df.dropDuplicates()   #interstellar_df = interstellar_df.dropDuplicates(['AGE']) "
   ]
  },
  {
   "cell_type": "code",
   "execution_count": 33,
   "id": "7781f634-25e5-4bf6-a72c-8150f004091f",
   "metadata": {},
   "outputs": [
    {
     "data": {
      "text/plain": [
       "547568"
      ]
     },
     "execution_count": 33,
     "metadata": {},
     "output_type": "execute_result"
    }
   ],
   "source": [
    "interstellar_df.count()"
   ]
  },
  {
   "cell_type": "code",
   "execution_count": 37,
   "id": "6e825d5d-8462-4466-9921-cba91189a513",
   "metadata": {},
   "outputs": [],
   "source": [
    "#interstellar_df = interstellar_df.dropna()\n",
    "interstellar_df = interstellar_df.dropna(how='all')\n",
    "#interstellar_df = interstellar_df.dropna(subset=['Age'])"
   ]
  },
  {
   "cell_type": "code",
   "execution_count": 38,
   "id": "7d14d6b7-bcca-4808-b23f-ca814f700135",
   "metadata": {},
   "outputs": [
    {
     "data": {
      "text/plain": [
       "547568"
      ]
     },
     "execution_count": 38,
     "metadata": {},
     "output_type": "execute_result"
    }
   ],
   "source": [
    "interstellar_df.count()"
   ]
  },
  {
   "cell_type": "code",
   "execution_count": 39,
   "id": "a43c1b8a-5e22-43ed-972b-57fb7f2717fe",
   "metadata": {},
   "outputs": [],
   "source": [
    "interstellar_df= interstellar_df.withColumn('Age * 2', interstellar_df['AGE']*2)"
   ]
  },
  {
   "cell_type": "code",
   "execution_count": 40,
   "id": "8b599223-3e53-4f55-b60f-c3880197e57d",
   "metadata": {},
   "outputs": [
    {
     "data": {
      "text/plain": [
       "DataFrame[AGE: int, Gender: string, Occupation: string, Travel Class: string, Destination: string, Star System: string, Distance to Destination (Light-Years): double, Duration of Stay (Earth Days): double, Number of Companions: int, Purpose of Travel: string, Transportation Type: string, Price (Galactic Credits): double, Booking Date: string, Departure Date: string, Special Requests: string, Loyalty Program Member: string, Month: int, Customer Satisfaction Score: double, Age * 2: int]"
      ]
     },
     "execution_count": 40,
     "metadata": {},
     "output_type": "execute_result"
    }
   ],
   "source": [
    "interstellar_df"
   ]
  },
  {
   "cell_type": "code",
   "execution_count": 42,
   "id": "7b2f2825-0e34-4103-b860-9efc55e26c4c",
   "metadata": {},
   "outputs": [],
   "source": [
    "interstellar_df = interstellar_df.withColumn('AGE - Agender', concat_ws('-',interstellar_df['AGE'], interstellar_df['Gender']))"
   ]
  },
  {
   "cell_type": "code",
   "execution_count": 43,
   "id": "abdb91c9-34ac-4033-857f-25b7684a2af2",
   "metadata": {},
   "outputs": [
    {
     "data": {
      "text/plain": [
       "DataFrame[AGE: int, Gender: string, Occupation: string, Travel Class: string, Destination: string, Star System: string, Distance to Destination (Light-Years): double, Duration of Stay (Earth Days): double, Number of Companions: int, Purpose of Travel: string, Transportation Type: string, Price (Galactic Credits): double, Booking Date: string, Departure Date: string, Special Requests: string, Loyalty Program Member: string, Month: int, Customer Satisfaction Score: double, Age * 2: int, AGE - Agender: string]"
      ]
     },
     "execution_count": 43,
     "metadata": {},
     "output_type": "execute_result"
    }
   ],
   "source": [
    "interstellar_df"
   ]
  },
  {
   "cell_type": "code",
   "execution_count": 44,
   "id": "20b41674-cf49-4dfd-9014-75e6c52c1d37",
   "metadata": {},
   "outputs": [],
   "source": [
    "interstellar_df = interstellar_df.withColumn('AgeGender', concat(interstellar_df['Age'], interstellar_df['Gender']))"
   ]
  },
  {
   "cell_type": "code",
   "execution_count": 45,
   "id": "9df8b755-d292-4ccf-a373-b5534741d67f",
   "metadata": {},
   "outputs": [
    {
     "data": {
      "text/plain": [
       "DataFrame[AGE: int, Gender: string, Occupation: string, Travel Class: string, Destination: string, Star System: string, Distance to Destination (Light-Years): double, Duration of Stay (Earth Days): double, Number of Companions: int, Purpose of Travel: string, Transportation Type: string, Price (Galactic Credits): double, Booking Date: string, Departure Date: string, Special Requests: string, Loyalty Program Member: string, Month: int, Customer Satisfaction Score: double, Age * 2: int, AGE - Agender: string, AgeGender: string]"
      ]
     },
     "execution_count": 45,
     "metadata": {},
     "output_type": "execute_result"
    }
   ],
   "source": [
    "interstellar_df"
   ]
  },
  {
   "cell_type": "code",
   "execution_count": 46,
   "id": "0741523a-9719-48d5-851d-b034405bddf0",
   "metadata": {},
   "outputs": [],
   "source": [
    "interstellar_df = interstellar_df.drop('AGE-Gender','AGEGender')"
   ]
  },
  {
   "cell_type": "code",
   "execution_count": 47,
   "id": "60d4822a-7337-4b05-8418-abd700c86ac5",
   "metadata": {},
   "outputs": [
    {
     "data": {
      "text/plain": [
       "DataFrame[AGE: int, Gender: string, Occupation: string, Travel Class: string, Destination: string, Star System: string, Distance to Destination (Light-Years): double, Duration of Stay (Earth Days): double, Number of Companions: int, Purpose of Travel: string, Transportation Type: string, Price (Galactic Credits): double, Booking Date: string, Departure Date: string, Special Requests: string, Loyalty Program Member: string, Month: int, Customer Satisfaction Score: double, Age * 2: int, AGE - Agender: string]"
      ]
     },
     "execution_count": 47,
     "metadata": {},
     "output_type": "execute_result"
    }
   ],
   "source": [
    "interstellar_df"
   ]
  },
  {
   "cell_type": "code",
   "execution_count": 48,
   "id": "aa50cb4f-ca55-4f99-99d3-eacea9c6cacc",
   "metadata": {},
   "outputs": [],
   "source": [
    "interstellar_df = interstellar_df.drop('AGE - Agender', 'Age * 2')"
   ]
  },
  {
   "cell_type": "code",
   "execution_count": 49,
   "id": "1a52072e-9841-431b-9e6b-61b3680ecf8d",
   "metadata": {},
   "outputs": [
    {
     "data": {
      "text/plain": [
       "DataFrame[AGE: int, Gender: string, Occupation: string, Travel Class: string, Destination: string, Star System: string, Distance to Destination (Light-Years): double, Duration of Stay (Earth Days): double, Number of Companions: int, Purpose of Travel: string, Transportation Type: string, Price (Galactic Credits): double, Booking Date: string, Departure Date: string, Special Requests: string, Loyalty Program Member: string, Month: int, Customer Satisfaction Score: double]"
      ]
     },
     "execution_count": 49,
     "metadata": {},
     "output_type": "execute_result"
    }
   ],
   "source": [
    "interstellar_df"
   ]
  },
  {
   "cell_type": "code",
   "execution_count": 56,
   "id": "b0ca4e59-43cc-45c8-bc3a-c03b75c501c7",
   "metadata": {},
   "outputs": [],
   "source": [
    "interstellar_df.createOrReplaceTempView('t1')"
   ]
  },
  {
   "cell_type": "code",
   "execution_count": 61,
   "id": "a71a0dfa-7aec-4cf1-8d86-67129c759ebd",
   "metadata": {},
   "outputs": [
    {
     "name": "stdout",
     "output_type": "stream",
     "text": [
      "+---+\n",
      "|age|\n",
      "+---+\n",
      "| 27|\n",
      "| 13|\n",
      "| 55|\n",
      "| 31|\n",
      "| 12|\n",
      "| 23|\n",
      "| 31|\n",
      "| 50|\n",
      "|  9|\n",
      "| 76|\n",
      "| 34|\n",
      "|  6|\n",
      "| 16|\n",
      "| 25|\n",
      "| 26|\n",
      "| 27|\n",
      "| 20|\n",
      "| 32|\n",
      "| 42|\n",
      "| 25|\n",
      "+---+\n",
      "only showing top 20 rows\n",
      "\n"
     ]
    }
   ],
   "source": [
    "spark.sql(\n",
    "    'select age from t1'\n",
    ").show()"
   ]
  },
  {
   "cell_type": "code",
   "execution_count": 65,
   "id": "c9712a1e-e167-45aa-add7-0d3b691091e2",
   "metadata": {},
   "outputs": [
    {
     "ename": "AnalysisException",
     "evalue": "[PATH_ALREADY_EXISTS] Path file:/C:/Users/hp/Desktop/dax + pyspark + power bi + tableau/output already exists. Set mode as \"overwrite\" to overwrite the existing path.",
     "output_type": "error",
     "traceback": [
      "\u001b[1;31m---------------------------------------------------------------------------\u001b[0m",
      "\u001b[1;31mAnalysisException\u001b[0m                         Traceback (most recent call last)",
      "Cell \u001b[1;32mIn[65], line 1\u001b[0m\n\u001b[1;32m----> 1\u001b[0m \u001b[43minterstellar_df\u001b[49m\u001b[38;5;241;43m.\u001b[39;49m\u001b[43mwrite\u001b[49m\u001b[38;5;241;43m.\u001b[39;49m\u001b[43mformat\u001b[49m\u001b[43m(\u001b[49m\u001b[38;5;124;43m'\u001b[39;49m\u001b[38;5;124;43mcsv\u001b[39;49m\u001b[38;5;124;43m'\u001b[39;49m\u001b[43m)\u001b[49m\u001b[38;5;241;43m.\u001b[39;49m\u001b[43msave\u001b[49m\u001b[43m(\u001b[49m\u001b[38;5;124;43m'\u001b[39;49m\u001b[38;5;124;43moutput\u001b[39;49m\u001b[38;5;124;43m'\u001b[39;49m\u001b[43m)\u001b[49m\n",
      "File \u001b[1;32m~\\AppData\\Local\\Programs\\Python\\Python311\\Lib\\site-packages\\pyspark\\sql\\readwriter.py:1463\u001b[0m, in \u001b[0;36mDataFrameWriter.save\u001b[1;34m(self, path, format, mode, partitionBy, **options)\u001b[0m\n\u001b[0;32m   1461\u001b[0m     \u001b[38;5;28mself\u001b[39m\u001b[38;5;241m.\u001b[39m_jwrite\u001b[38;5;241m.\u001b[39msave()\n\u001b[0;32m   1462\u001b[0m \u001b[38;5;28;01melse\u001b[39;00m:\n\u001b[1;32m-> 1463\u001b[0m     \u001b[38;5;28;43mself\u001b[39;49m\u001b[38;5;241;43m.\u001b[39;49m\u001b[43m_jwrite\u001b[49m\u001b[38;5;241;43m.\u001b[39;49m\u001b[43msave\u001b[49m\u001b[43m(\u001b[49m\u001b[43mpath\u001b[49m\u001b[43m)\u001b[49m\n",
      "File \u001b[1;32m~\\AppData\\Local\\Programs\\Python\\Python311\\Lib\\site-packages\\py4j\\java_gateway.py:1322\u001b[0m, in \u001b[0;36mJavaMember.__call__\u001b[1;34m(self, *args)\u001b[0m\n\u001b[0;32m   1316\u001b[0m command \u001b[38;5;241m=\u001b[39m proto\u001b[38;5;241m.\u001b[39mCALL_COMMAND_NAME \u001b[38;5;241m+\u001b[39m\\\n\u001b[0;32m   1317\u001b[0m     \u001b[38;5;28mself\u001b[39m\u001b[38;5;241m.\u001b[39mcommand_header \u001b[38;5;241m+\u001b[39m\\\n\u001b[0;32m   1318\u001b[0m     args_command \u001b[38;5;241m+\u001b[39m\\\n\u001b[0;32m   1319\u001b[0m     proto\u001b[38;5;241m.\u001b[39mEND_COMMAND_PART\n\u001b[0;32m   1321\u001b[0m answer \u001b[38;5;241m=\u001b[39m \u001b[38;5;28mself\u001b[39m\u001b[38;5;241m.\u001b[39mgateway_client\u001b[38;5;241m.\u001b[39msend_command(command)\n\u001b[1;32m-> 1322\u001b[0m return_value \u001b[38;5;241m=\u001b[39m \u001b[43mget_return_value\u001b[49m\u001b[43m(\u001b[49m\n\u001b[0;32m   1323\u001b[0m \u001b[43m    \u001b[49m\u001b[43manswer\u001b[49m\u001b[43m,\u001b[49m\u001b[43m \u001b[49m\u001b[38;5;28;43mself\u001b[39;49m\u001b[38;5;241;43m.\u001b[39;49m\u001b[43mgateway_client\u001b[49m\u001b[43m,\u001b[49m\u001b[43m \u001b[49m\u001b[38;5;28;43mself\u001b[39;49m\u001b[38;5;241;43m.\u001b[39;49m\u001b[43mtarget_id\u001b[49m\u001b[43m,\u001b[49m\u001b[43m \u001b[49m\u001b[38;5;28;43mself\u001b[39;49m\u001b[38;5;241;43m.\u001b[39;49m\u001b[43mname\u001b[49m\u001b[43m)\u001b[49m\n\u001b[0;32m   1325\u001b[0m \u001b[38;5;28;01mfor\u001b[39;00m temp_arg \u001b[38;5;129;01min\u001b[39;00m temp_args:\n\u001b[0;32m   1326\u001b[0m     \u001b[38;5;28;01mif\u001b[39;00m \u001b[38;5;28mhasattr\u001b[39m(temp_arg, \u001b[38;5;124m\"\u001b[39m\u001b[38;5;124m_detach\u001b[39m\u001b[38;5;124m\"\u001b[39m):\n",
      "File \u001b[1;32m~\\AppData\\Local\\Programs\\Python\\Python311\\Lib\\site-packages\\pyspark\\errors\\exceptions\\captured.py:185\u001b[0m, in \u001b[0;36mcapture_sql_exception.<locals>.deco\u001b[1;34m(*a, **kw)\u001b[0m\n\u001b[0;32m    181\u001b[0m converted \u001b[38;5;241m=\u001b[39m convert_exception(e\u001b[38;5;241m.\u001b[39mjava_exception)\n\u001b[0;32m    182\u001b[0m \u001b[38;5;28;01mif\u001b[39;00m \u001b[38;5;129;01mnot\u001b[39;00m \u001b[38;5;28misinstance\u001b[39m(converted, UnknownException):\n\u001b[0;32m    183\u001b[0m     \u001b[38;5;66;03m# Hide where the exception came from that shows a non-Pythonic\u001b[39;00m\n\u001b[0;32m    184\u001b[0m     \u001b[38;5;66;03m# JVM exception message.\u001b[39;00m\n\u001b[1;32m--> 185\u001b[0m     \u001b[38;5;28;01mraise\u001b[39;00m converted \u001b[38;5;28;01mfrom\u001b[39;00m \u001b[38;5;28;01mNone\u001b[39;00m\n\u001b[0;32m    186\u001b[0m \u001b[38;5;28;01melse\u001b[39;00m:\n\u001b[0;32m    187\u001b[0m     \u001b[38;5;28;01mraise\u001b[39;00m\n",
      "\u001b[1;31mAnalysisException\u001b[0m: [PATH_ALREADY_EXISTS] Path file:/C:/Users/hp/Desktop/dax + pyspark + power bi + tableau/output already exists. Set mode as \"overwrite\" to overwrite the existing path."
     ]
    }
   ],
   "source": [
    "interstellar_df.write.format('csv').save('output')"
   ]
  },
  {
   "cell_type": "code",
   "execution_count": null,
   "id": "473bb84b-732a-4351-8165-fed16583186e",
   "metadata": {},
   "outputs": [],
   "source": []
  }
 ],
 "metadata": {
  "kernelspec": {
   "display_name": "Python 3 (ipykernel)",
   "language": "python",
   "name": "python3"
  },
  "language_info": {
   "codemirror_mode": {
    "name": "ipython",
    "version": 3
   },
   "file_extension": ".py",
   "mimetype": "text/x-python",
   "name": "python",
   "nbconvert_exporter": "python",
   "pygments_lexer": "ipython3",
   "version": "3.11.5"
  }
 },
 "nbformat": 4,
 "nbformat_minor": 5
}
